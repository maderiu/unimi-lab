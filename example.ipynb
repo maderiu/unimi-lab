{
 "cells": [
  {
   "cell_type": "code",
   "execution_count": 2,
   "metadata": {},
   "outputs": [
    {
     "data": {
      "text/plain": [
       "'Xavi Hernandez'"
      ]
     },
     "execution_count": 2,
     "metadata": {},
     "output_type": "execute_result"
    }
   ],
   "source": [
    "from langchain_openai.chat_models import ChatOpenAI\n",
    "from langchain_core.prompts import PromptTemplate \n",
    "from dotenv import load_dotenv\n",
    "load_dotenv()\n",
    "\n",
    "allowed_nationalities = ['Brazil', 'Italy', 'Spain', 'Argentina']\n",
    "\n",
    "TEMPLATE = '''\n",
    "You are a random players name generator. Given a input nationality, you generate a famous player as output. \n",
    "You can only generate players from these nationalities: \n",
    "{allowed_nationalities}. If the nationality is different, tell the user you can't answer.\n",
    "\n",
    "Here is the input nationality: {nationality}\n",
    "\n",
    "Output: \n",
    "'''\n",
    "\n",
    "llm = ChatOpenAI(model='gpt-3.5-turbo', timeout=4, max_retries=3, temperature=1)\n",
    "nationality_template = PromptTemplate(\n",
    "        template=TEMPLATE, \n",
    "        input_variables=['input'],\n",
    "        partial_variables={'allowed_nationalities': allowed_nationalities}\n",
    "        )\n",
    "\n",
    "\n",
    "nationality_chain = nationality_template | llm \n",
    "res = nationality_chain.invoke({'nationality': 'Spain'})\n",
    "res.content"
   ]
  }
 ],
 "metadata": {
  "kernelspec": {
   "display_name": ".venv",
   "language": "python",
   "name": "python3"
  },
  "language_info": {
   "codemirror_mode": {
    "name": "ipython",
    "version": 3
   },
   "file_extension": ".py",
   "mimetype": "text/x-python",
   "name": "python",
   "nbconvert_exporter": "python",
   "pygments_lexer": "ipython3",
   "version": "3.10.8"
  },
  "orig_nbformat": 4
 },
 "nbformat": 4,
 "nbformat_minor": 2
}
